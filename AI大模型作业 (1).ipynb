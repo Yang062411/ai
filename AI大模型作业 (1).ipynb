{
 "cells": [
  {
   "cell_type": "code",
   "execution_count": 2,
   "id": "6f676593-8d7c-4305-9a0c-4c9750d4fbda",
   "metadata": {},
   "outputs": [
    {
     "name": "stdout",
     "output_type": "stream",
     "text": [
      "Requirement already satisfied: zhipuai in c:\\programdata\\anaconda3\\lib\\site-packages (2.1.5.20230904)\n",
      "Requirement already satisfied: pyjwt<2.9.0,>=2.8.0 in c:\\programdata\\anaconda3\\lib\\site-packages (from zhipuai) (2.8.0)\n",
      "Requirement already satisfied: pydantic-core>=2.14.6 in c:\\programdata\\anaconda3\\lib\\site-packages (from zhipuai) (2.23.4)\n",
      "Requirement already satisfied: httpx>=0.23.0 in c:\\programdata\\anaconda3\\lib\\site-packages (from zhipuai) (0.27.2)\n",
      "Requirement already satisfied: pydantic<3.0,>=1.9.0 in c:\\programdata\\anaconda3\\lib\\site-packages (from zhipuai) (2.9.2)\n",
      "Requirement already satisfied: cachetools>=4.2.2 in c:\\programdata\\anaconda3\\lib\\site-packages (from zhipuai) (5.5.0)\n",
      "Requirement already satisfied: sniffio in c:\\programdata\\anaconda3\\lib\\site-packages (from httpx>=0.23.0->zhipuai) (1.2.0)\n",
      "Requirement already satisfied: idna in c:\\programdata\\anaconda3\\lib\\site-packages (from httpx>=0.23.0->zhipuai) (3.3)\n",
      "Requirement already satisfied: certifi in c:\\programdata\\anaconda3\\lib\\site-packages (from httpx>=0.23.0->zhipuai) (2022.9.14)\n",
      "Requirement already satisfied: anyio in c:\\programdata\\anaconda3\\lib\\site-packages (from httpx>=0.23.0->zhipuai) (3.5.0)\n",
      "Requirement already satisfied: httpcore==1.* in c:\\programdata\\anaconda3\\lib\\site-packages (from httpx>=0.23.0->zhipuai) (1.0.7)\n",
      "Requirement already satisfied: h11<0.15,>=0.13 in c:\\programdata\\anaconda3\\lib\\site-packages (from httpcore==1.*->httpx>=0.23.0->zhipuai) (0.14.0)\n",
      "Requirement already satisfied: typing-extensions>=4.6.1 in c:\\programdata\\anaconda3\\lib\\site-packages (from pydantic<3.0,>=1.9.0->zhipuai) (4.12.2)\n",
      "Requirement already satisfied: annotated-types>=0.6.0 in c:\\programdata\\anaconda3\\lib\\site-packages (from pydantic<3.0,>=1.9.0->zhipuai) (0.7.0)\n",
      "Note: you may need to restart the kernel to use updated packages.\n"
     ]
    }
   ],
   "source": [
    " pip install zhipuai"
   ]
  },
  {
   "cell_type": "code",
   "execution_count": 13,
   "id": "214185e6-0ecd-4e4d-ac92-a8c9cb26119f",
   "metadata": {},
   "outputs": [],
   "source": [
    "import os\n",
    "from zhipuai import ZhipuAI\n",
    "import base64\n",
    "\n",
    "os.environ[\"ZHIPUAI_API_KEY\"]= \"6d7ca66fc89400b9c26bfd41b18400e5.LHkJytIww5z1FIfz\" \n",
    "client =ZhipuAI()"
   ]
  },
  {
   "cell_type": "code",
   "execution_count": 25,
   "id": "943b3c32-4b9f-48cd-bd10-8182038a942c",
   "metadata": {},
   "outputs": [
    {
     "name": "stdout",
     "output_type": "stream",
     "text": [
      "通常来说,视频理解的响应时间较长，需要等待数十秒......\n",
      "CompletionMessage(content='好的,让我来给你讲一下这个小狗的故事。\\n\\n在这个视频中,我们看到一只可爱的小狗站在一条红白相间的路面上。它看起来非常兴奋,不停地叫着,好像在跟周围的人打招呼一样。\\n\\n这只小狗的毛色是白色和棕色的混合,尾巴蓬松地翘起来,显得非常活泼可爱。它的眼睛闪闪发光,似乎充满了好奇和活力。\\n\\n我们不知道这只小狗的名字,但我们可以想象它可能是一个非常友好和热情的小家伙。也许它在等待它的主人带它去散步,或者是在寻找一个新的朋友一起玩耍。\\n\\n不管怎样,看到这只小狗如此快乐和充满活力,真是让人感到温馨和愉快。希望你能喜欢这个故事,也希望你和你的宠物都能像这只小狗一样快乐!', role='assistant', tool_calls=None)\n"
     ]
    }
   ],
   "source": [
    "video_path = \"11.mp4\"\n",
    "with open(video_path,'rb' ) as video_file:\n",
    "    video_base = base64.b64encode(video_file.read()).decode('utf-8')\n",
    "    \n",
    "print(\"通常来说,视频理解的响应时间较长，需要等待数十秒......\")\n",
    "\n",
    "response = client.chat.completions.create(\n",
    "    model=\"glm-4v-plus\",\n",
    "    temperature=0.0,\n",
    "    top_p=0,\n",
    "    \n",
    "    messages=[{\n",
    "        \"role\":\"user\",\n",
    "        \"content\":[{\n",
    "            \"type\": \"video_url\",\n",
    "            \"video_url\":{ \"url\": video_base }\n",
    "                        },{\n",
    "                \"type\":\"text\",\n",
    "                \"text\":\"请仔细描述这个视频的环境，图中的小狗在干啥，以有趣的方式讲给我听\"\n",
    "            }]\n",
    "        }]\n",
    ")\n",
    "print(response.choices [0].message)"
   ]
  },
  {
   "cell_type": "code",
   "execution_count": null,
   "id": "77a63d70-2ced-407e-ae14-8364ac6480ee",
   "metadata": {},
   "outputs": [],
   "source": []
  }
 ],
 "metadata": {
  "kernelspec": {
   "display_name": "Python 3 (ipykernel)",
   "language": "python",
   "name": "python3"
  },
  "language_info": {
   "codemirror_mode": {
    "name": "ipython",
    "version": 3
   },
   "file_extension": ".py",
   "mimetype": "text/x-python",
   "name": "python",
   "nbconvert_exporter": "python",
   "pygments_lexer": "ipython3",
   "version": "3.9.13"
  }
 },
 "nbformat": 4,
 "nbformat_minor": 5
}
