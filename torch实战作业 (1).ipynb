{
 "cells": [
  {
   "cell_type": "code",
   "execution_count": 1,
   "id": "c4ada098-242d-43e2-805f-d82405df3c74",
   "metadata": {},
   "outputs": [
    {
     "name": "stdout",
     "output_type": "stream",
     "text": [
      "Requirement already satisfied: torch in c:\\programdata\\anaconda3\\lib\\site-packages (2.5.1)\n",
      "Requirement already satisfied: filelock in c:\\programdata\\anaconda3\\lib\\site-packages (from torch) (3.6.0)\n",
      "Requirement already satisfied: typing-extensions>=4.8.0 in c:\\programdata\\anaconda3\\lib\\site-packages (from torch) (4.12.2)\n",
      "Requirement already satisfied: jinja2 in c:\\programdata\\anaconda3\\lib\\site-packages (from torch) (2.11.3)\n",
      "Requirement already satisfied: fsspec in c:\\programdata\\anaconda3\\lib\\site-packages (from torch) (2022.7.1)\n",
      "Requirement already satisfied: sympy==1.13.1 in c:\\programdata\\anaconda3\\lib\\site-packages (from torch) (1.13.1)\n",
      "Requirement already satisfied: networkx in c:\\programdata\\anaconda3\\lib\\site-packages (from torch) (2.8.4)\n",
      "Requirement already satisfied: mpmath<1.4,>=1.1.0 in c:\\programdata\\anaconda3\\lib\\site-packages (from sympy==1.13.1->torch) (1.2.1)\n",
      "Requirement already satisfied: MarkupSafe>=0.23 in c:\\programdata\\anaconda3\\lib\\site-packages (from jinja2->torch) (2.0.1)\n",
      "Note: you may need to restart the kernel to use updated packages.\n"
     ]
    }
   ],
   "source": [
    "pip install torch"
   ]
  },
  {
   "cell_type": "code",
   "execution_count": 2,
   "id": "06e20295-0f61-44eb-af41-3d01ea766801",
   "metadata": {},
   "outputs": [],
   "source": [
    "import torch\n",
    "\n",
    "def sigmoid(x):\n",
    "    return 1 / (1 + torch.exp(-x))"
   ]
  },
  {
   "cell_type": "code",
   "execution_count": 3,
   "id": "df9882ca-4c0c-422d-b480-203072cff5bc",
   "metadata": {},
   "outputs": [],
   "source": [
    "x1 = torch.tensor(0.0, requires_grad=True)\n",
    "x2 = torch.tensor(1.0, requires_grad=True)\n",
    "\n",
    "def f(x1, x2):\n",
    "    term1 = 3 * sigmoid(x1 ** 2 + 2 * x2 + 1)\n",
    "    term2 = sigmoid(x1 ** 2 + 2 * x2 + 1)\n",
    "    term3 = 1\n",
    "    return sigmoid(term1 + term2 + term3)"
   ]
  },
  {
   "cell_type": "code",
   "execution_count": 4,
   "id": "2ac56e52-7882-4c01-95fe-b0d3419b503d",
   "metadata": {},
   "outputs": [],
   "source": [
    "y = f(x1, x2)"
   ]
  },
  {
   "cell_type": "code",
   "execution_count": 5,
   "id": "8f49e1bd-109e-414b-a980-1924e10e3b0c",
   "metadata": {},
   "outputs": [],
   "source": [
    "y.backward()"
   ]
  },
  {
   "cell_type": "code",
   "execution_count": 6,
   "id": "e9425d39-da28-4892-b9f3-90ca43e4f689",
   "metadata": {},
   "outputs": [
    {
     "name": "stdout",
     "output_type": "stream",
     "text": [
      "x1 的梯度： tensor(0.)\n",
      "x2 的梯度： tensor(0.0029)\n"
     ]
    }
   ],
   "source": [
    "print(\"x1 的梯度：\", x1.grad)\n",
    "print(\"x2 的梯度：\", x2.grad)"
   ]
  }
 ],
 "metadata": {
  "kernelspec": {
   "display_name": "Python 3 (ipykernel)",
   "language": "python",
   "name": "python3"
  },
  "language_info": {
   "codemirror_mode": {
    "name": "ipython",
    "version": 3
   },
   "file_extension": ".py",
   "mimetype": "text/x-python",
   "name": "python",
   "nbconvert_exporter": "python",
   "pygments_lexer": "ipython3",
   "version": "3.9.13"
  }
 },
 "nbformat": 4,
 "nbformat_minor": 5
}
